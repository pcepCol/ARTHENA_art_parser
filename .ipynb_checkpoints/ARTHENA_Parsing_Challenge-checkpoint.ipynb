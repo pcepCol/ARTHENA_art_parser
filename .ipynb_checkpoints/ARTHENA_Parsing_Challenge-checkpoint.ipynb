{
 "cells": [
  {
   "cell_type": "markdown",
   "metadata": {},
   "source": [
    "<h3 align=\"center\"><FONT size=\"7pt\">ARTHENA - Parsing Challenge</FONT></h3>\n",
    "<br><h3 align=\"center\"><FONT size=\"5pt\">Pierre-Charles Paret-Van Wolput</FONT></h3></br>"
   ]
  },
  {
   "cell_type": "markdown",
   "metadata": {},
   "source": [
    "### Import part"
   ]
  },
  {
   "cell_type": "code",
   "execution_count": 1,
   "metadata": {
    "collapsed": true
   },
   "outputs": [],
   "source": [
    "import os\n",
    "from os import listdir\n",
    "from html.parser import HTMLParser\n",
    "import json\n",
    "import sys\n",
    "import numpy as np"
   ]
  },
  {
   "cell_type": "code",
   "execution_count": 2,
   "metadata": {
    "collapsed": true
   },
   "outputs": [],
   "source": [
    "path1 = \"./data/2015-03-18/\""
   ]
  },
  {
   "cell_type": "code",
   "execution_count": 3,
   "metadata": {},
   "outputs": [],
   "source": [
    "path2 = \"./data/2017-12-20/\""
   ]
  },
  {
   "cell_type": "markdown",
   "metadata": {},
   "source": [
    "### Parser class modification for first filetype"
   ]
  },
  {
   "cell_type": "markdown",
   "metadata": {},
   "source": [
    "I used an HTML parser whose methods I can override to produce expected results. It could also be done by starting the whole string parsing if needed.\n",
    "\n",
    "This parser is case specific."
   ]
  },
  {
   "cell_type": "code",
   "execution_count": 4,
   "metadata": {},
   "outputs": [],
   "source": [
    "class MyHTMLParserType1(HTMLParser):\n",
    "    \n",
    "    #Variables to know when we are treating specific strings\n",
    "    is_name = False\n",
    "    is_title = False\n",
    "    is_price = False\n",
    "    next_div_is_price = False #warns that the next div tag encountered gives the price\n",
    "    count_h3 = 0 #counts the number of h3 tags encountered\n",
    "    \n",
    "    #Specific variables during a single file processing\n",
    "    name = \"\"\n",
    "    title = \"\"\n",
    "    currency = \"\"\n",
    "    amount = \"\"\n",
    "    \n",
    "    #Variables for storage\n",
    "    dict_artists_works = {}\n",
    "    \n",
    "    #Resets the parser entirely\n",
    "    def reset_attributes(self):\n",
    "        self.reset_infile_variables()\n",
    "        self.dict_artists_works = {}    \n",
    "    \n",
    "    #Getter for output\n",
    "    def get_artists_works_array_of_dicts(self):\n",
    "        dict_artists_works = self.dict_artists_works\n",
    "        artists = list(dict_artists_works) #access the keys of the dict\n",
    "        array_dicts = [{} for x in range(len(artists))]\n",
    "        \n",
    "        #fill the array of new dicts \n",
    "        for i in range(len(artists)):\n",
    "            artist = artists[i]\n",
    "            dict = {\"artist\": artist, \"works\": dict_artists_works[artist]}\n",
    "            array_dicts[i] = dict\n",
    "        \n",
    "        return(array_dicts)\n",
    "    \n",
    "    #Adds a artwork to the dicts\n",
    "    def add_artwork(self):\n",
    "        name = self.name\n",
    "        #I used an dict to define the artwork\n",
    "        artwork = {\"title\": self.title, \"currency\": self.currency, \"amount\": self.amount}\n",
    "        if name in self.dict_artists_works:\n",
    "            self.dict_artists_works[name].append(artwork)\n",
    "        else:\n",
    "            self.dict_artists_works[name] = [artwork]\n",
    "           \n",
    "    \n",
    "    #(Re)setter for variables used to locate informations (name, etc.)\n",
    "    def reset_infile_variables(self):\n",
    "        self.is_name = False\n",
    "        self.is_title = False\n",
    "        self.name = \"\"\n",
    "        self.title = \"\"\n",
    "        self.currency = \"\"\n",
    "        self.amount = 0\n",
    "        self.count_h3 = 0 \n",
    "        \n",
    "    \n",
    "    #Method treating beginning of tags to know what to do with the data \n",
    "    def handle_starttag(self, tag, attrs):\n",
    "        #reset the variables that are file-related\n",
    "        if tag == 'html':\n",
    "            self.reset_infile_variables()\n",
    "        #warn that next data to treat is name\n",
    "        if tag == 'h2':\n",
    "            self.is_name = True\n",
    "        #warn that next data to treat is title\n",
    "        if tag == 'h3':\n",
    "            if self.count_h3 == 0:\n",
    "                self.is_title = True\n",
    "            if self.count_h3 == 1:\n",
    "                self.next_div_is_price = True\n",
    "            self.count_h3 += 1\n",
    "        #warn that next data to treat is price\n",
    "        if (tag == 'div') & self.next_div_is_price:\n",
    "            self.is_price = True\n",
    "            self.next_div_is_price = False\n",
    "    \n",
    "    #Method treating beginning of tags to stop the special treatment of the data\n",
    "    def handle_endtag(self, tag):\n",
    "        #reset the variables that are file-related and add new object\n",
    "        if tag == 'html':\n",
    "            self.add_artwork()\n",
    "            self.reset_infile_variables()\n",
    "        #warn that we are done treating name\n",
    "        if tag == 'h2':\n",
    "            self.is_name = False\n",
    "        #warn that we are done treating title\n",
    "        if tag == 'h3':\n",
    "            self.is_title = False\n",
    "        #warn that we are done treating price\n",
    "        if tag == 'div':\n",
    "            self.is_price = False\n",
    "\n",
    "    def handle_data(self, data):\n",
    "        #name treatement\n",
    "        if self.is_name:\n",
    "            string_components = data.split(' ')\n",
    "            string_name = \"\" \n",
    "            for s in string_components:\n",
    "                if (s[0].isalpha()):\n",
    "                    string_name = string_name + s + ' '\n",
    "            string_name = string_name[0:len(string_name)-1] #remove space after end of last name\n",
    "            self.name = string_name\n",
    "        #title treatment\n",
    "        if self.is_title:\n",
    "            self.title = data\n",
    "        #price treatment\n",
    "        if self.is_price:\n",
    "            string_components = data.split(' ')\n",
    "            string_amount = string_components[1]\n",
    "            if (string_amount.find(',') != -1):\n",
    "                string_amount = string_amount.replace(',','') #replace the , of the thousands\n",
    "            self.currency = string_components[0]\n",
    "            self.amount = float(string_amount)"
   ]
  },
  {
   "cell_type": "markdown",
   "metadata": {},
   "source": [
    "### Main for 1 directory"
   ]
  },
  {
   "cell_type": "code",
   "execution_count": 19,
   "metadata": {
    "collapsed": true
   },
   "outputs": [],
   "source": [
    "def main_parsing_HTML_to_JSON_1dir(path_directory):\n",
    "    \n",
    "    filenames = os.listdir(path_directory)\n",
    "    if (path_directory == './data/2015-03-18/'):\n",
    "        parser = MyHTMLParserType1()\n",
    "        parser.reset_attributes()\n",
    "    else:\n",
    "        if (path_directory == './data/2017-12-20/'):\n",
    "            parser = MyHTMLParserType2()\n",
    "            parser.reset_attributes()\n",
    "    \n",
    "    encoder = json.JSONEncoder()\n",
    "    \n",
    "    #Parser feeding\n",
    "    for filename in filenames:\n",
    "        \n",
    "        #File Opening\n",
    "        f = open(path_directory + filename, 'r')\n",
    "        string_file = f.read()\n",
    "        f.close()\n",
    "        \n",
    "        print('Opening finished for file' + filename)\n",
    "        \n",
    "        parser.feed(string_file)\n",
    "    \n",
    "    #Preparation of outputs of the function\n",
    "    array_artists_dicts = parser.get_artists_works_array_of_dicts()\n",
    "    parser.reset_attributes()\n",
    "    parser.close()\n",
    "    array_artists_json = encoder.encode(array_artists_dicts)\n",
    "        \n",
    "    return(array_artists_json)"
   ]
  },
  {
   "cell_type": "markdown",
   "metadata": {},
   "source": [
    "### Treatment of first directory"
   ]
  },
  {
   "cell_type": "code",
   "execution_count": 20,
   "metadata": {},
   "outputs": [
    {
     "name": "stdout",
     "output_type": "stream",
     "text": [
      "Opening finished for filelot1.html\n",
      "Opening finished for filelot5.html\n",
      "Opening finished for filelot4.html\n",
      "Opening finished for filelot3.html\n",
      "Opening finished for filelot2.html\n"
     ]
    }
   ],
   "source": [
    "out1 = main_parsing_HTML_to_JSON_1dir(path1)"
   ]
  },
  {
   "cell_type": "code",
   "execution_count": 22,
   "metadata": {
    "scrolled": true
   },
   "outputs": [
    {
     "name": "stdout",
     "output_type": "stream",
     "text": [
      "[{\"artist\": \"Rembrandt Harmensz. van Rijn\", \"works\": [{\"title\": \"Christ at Emmaus: The smaller Plate\", \"currency\": \"GBP\", \"amount\": 6875.0}]}, {\"artist\": \"Marc Chagall\", \"works\": [{\"title\": \"Self-Portrait\", \"currency\": \"GBP\", \"amount\": 6000.0}]}, {\"artist\": \"Pablo Picasso\", \"works\": [{\"title\": \"Quatre Femmes nues et T\\u00eate sculpt\\u00e9e, from: La Suite Vollard\", \"currency\": \"USD\", \"amount\": 25000.0}]}, {\"artist\": \"Joan Mir\\u00f3\", \"works\": [{\"title\": \"Femme et Chien devant la Lune\", \"currency\": \"GBP\", \"amount\": 11250.0}]}, {\"artist\": \"Louis Marcoussis\", \"works\": [{\"title\": \"La Table\", \"currency\": \"GBP\", \"amount\": 9200.0}]}]"
     ]
    }
   ],
   "source": [
    "sys.stdout.write(out1)"
   ]
  },
  {
   "cell_type": "markdown",
   "metadata": {},
   "source": [
    "### Parser class modification for first filetype"
   ]
  },
  {
   "cell_type": "code",
   "execution_count": 9,
   "metadata": {},
   "outputs": [],
   "source": [
    "class MyHTMLParserType2(HTMLParser):\n",
    "    \n",
    "    #Variables to know when we are treating specific strings\n",
    "    is_name = False\n",
    "    is_title = False\n",
    "    is_currency = False\n",
    "    is_amount = False\n",
    "    count_h3 = 0 #counts the number of h3 tags encountered\n",
    "    \n",
    "    #Specific variables during a single file processing\n",
    "    name = \"\"\n",
    "    title = \"\"\n",
    "    currency = \"\"\n",
    "    amount = \"\"\n",
    "    \n",
    "    #Variables for storage\n",
    "    dict_artists_works = {}\n",
    "    \n",
    "    def reset_attributes(self):\n",
    "        self.reset_infile_variables()\n",
    "        self.dict_artists_works = {}\n",
    "    \n",
    "    #Getter for output\n",
    "    def get_artists_works_array_of_dicts(self):\n",
    "        dict_artists_works = self.dict_artists_works\n",
    "        artists = list(dict_artists_works) #access the keys of the dict\n",
    "        array_dicts = [{} for x in range(len(artists))]\n",
    "        \n",
    "        #fill the array of new dicts \n",
    "        for i in range(len(artists)):\n",
    "            artist = artists[i]\n",
    "            dict = {\"artist\": artist, \"works\": dict_artists_works[artist]}\n",
    "            array_dicts[i] = dict\n",
    "        \n",
    "        return(array_dicts)\n",
    "    \n",
    "    #Adds a artwork to the dicts\n",
    "    def add_artwork(self):\n",
    "        name = self.name\n",
    "        #I used an dict to define the artwork\n",
    "        artwork = {\"title\": self.title, \"currency\": self.currency, \"amount\": self.amount}\n",
    "        if name in self.dict_artists_works:\n",
    "            self.dict_artists_works[name].append(artwork)\n",
    "        else:\n",
    "            self.dict_artists_works[name] = [artwork]\n",
    "           \n",
    "    \n",
    "    #(Re)setter for variables used to locate informations (name, etc.)\n",
    "    def reset_infile_variables(self):\n",
    "        self.is_name = False\n",
    "        self.is_title = False\n",
    "        self.name = \"\"\n",
    "        self.title = \"\"\n",
    "        self.currency = \"\"\n",
    "        self.amount = 0\n",
    "        self.count_h3 = 0 \n",
    "        \n",
    "    \n",
    "    #Method treating beginning of tags to know what to do with the data \n",
    "    def handle_starttag(self, tag, attrs):\n",
    "        attrs_empty = (len(attrs) ==0)\n",
    "        #reset the variables that are file-related\n",
    "        if tag == 'html':\n",
    "            self.reset_infile_variables()\n",
    "        #warn that next data to treat is name\n",
    "        if (tag == 'h3') & (not attrs_empty):\n",
    "            self.is_name = True\n",
    "        #warn that next data to treat is title\n",
    "        if (tag == 'h3') & (attrs_empty):\n",
    "            if self.count_h3 == 0:\n",
    "                self.is_title = True\n",
    "            self.count_h3 += 1\n",
    "        #warn that next data to treat is currency\n",
    "        if (tag == 'span') & (not attrs_empty):\n",
    "            self.is_currency = True\n",
    "        #warn that next data to treat is amount\n",
    "        if (tag == 'span') & (attrs_empty):\n",
    "            self.is_amount = True\n",
    "    \n",
    "    #Method treating beginning of tags to stop the special treatment of the data\n",
    "    def handle_endtag(self, tag):\n",
    "        #reset the variables that are file-related and add new object\n",
    "        if tag == 'html':\n",
    "            self.add_artwork()\n",
    "            self.reset_infile_variables()\n",
    "        #warn that we are done treating name or title\n",
    "        if tag == 'h3':\n",
    "            self.is_name = False\n",
    "            self.is_title = False\n",
    "        #warn that we are done treating price\n",
    "        if tag == 'span':\n",
    "            self.is_currency = False\n",
    "            self.is_amount = False\n",
    "\n",
    "    def handle_data(self, data):\n",
    "        #name treatement\n",
    "        if self.is_name:\n",
    "            string_components = data.split(' ')\n",
    "            string_name = \"\" \n",
    "            for s in string_components:\n",
    "                if (s[0].isalpha()):\n",
    "                    string_name = string_name + s + ' '\n",
    "            string_name = string_name[0:len(string_name)-1] #remove space after end of last name\n",
    "            self.name = string_name\n",
    "        #title treatment\n",
    "        if self.is_title:\n",
    "            self.title = data\n",
    "        #currency treatment\n",
    "        if self.is_currency:\n",
    "            self.currency = data\n",
    "        #amount treatment\n",
    "        if self.is_amount:\n",
    "            string_amount = data\n",
    "            if (string_amount.find(',') != -1):\n",
    "                string_amount = string_amount.replace(',','') #replace the , of the thousands\n",
    "            self.amount = float(string_amount)"
   ]
  },
  {
   "cell_type": "markdown",
   "metadata": {},
   "source": [
    "### Treatment of second directory"
   ]
  },
  {
   "cell_type": "code",
   "execution_count": 10,
   "metadata": {},
   "outputs": [
    {
     "name": "stdout",
     "output_type": "stream",
     "text": [
      "Opening finished for filelot1.html\n",
      "Opening finished for filelot5.html\n",
      "Opening finished for filelot4.html\n",
      "Opening finished for filelot3.html\n",
      "Opening finished for filelot2.html\n"
     ]
    }
   ],
   "source": [
    "out2 = main_parsing_HTML_to_JSON_1dir(path2)"
   ]
  },
  {
   "cell_type": "code",
   "execution_count": 11,
   "metadata": {},
   "outputs": [
    {
     "name": "stdout",
     "output_type": "stream",
     "text": [
      "[{\"artist\": \"Rembrandt Harmensz. van Rijn\", \"works\": [{\"title\": \"Self-Portrait in a Cap and Scarf with Face dark: Bust\", \"currency\": \"USD\", \"amount\": 8125.0}]}, {\"artist\": \"Pablo Picasso\", \"works\": [{\"title\": \"Quatre Femmes nues et T\\u00eate sculpt\\u00e9e, from: La Suite Vollard\", \"currency\": \"USD\", \"amount\": 36000.0}, {\"title\": \"Femme assise, robe bleue\", \"currency\": \"USD\", \"amount\": 45047500.0}]}, {\"artist\": \"Louis Marcoussis\", \"works\": [{\"title\": \"Bar du porto\", \"currency\": \"USD\", \"amount\": 149000.0}, {\"title\": \"Portrait d'Alice Halicka\", \"currency\": \"USD\", \"amount\": 182500.0}]}]"
     ]
    }
   ],
   "source": [
    "sys.stdout.write(out2)"
   ]
  },
  {
   "cell_type": "markdown",
   "metadata": {},
   "source": [
    "### Main for full file"
   ]
  },
  {
   "cell_type": "markdown",
   "metadata": {},
   "source": [
    "Note: doing this in Python was maybe a bad idea due to the type of objects needed."
   ]
  },
  {
   "cell_type": "code",
   "execution_count": 28,
   "metadata": {},
   "outputs": [],
   "source": [
    "def main_treatment_HTML_to_JSON(path_upper_directory):\n",
    "    dirnames = os.listdir(path_upper_directory)\n",
    "    \n",
    "    #Storage variable to merge the two results of the datasets\n",
    "    storage = []\n",
    "    \n",
    "    for dirname in dirnames:\n",
    "        path_directory = path_upper_directory + \"/\" + dirname + \"/\"\n",
    "        \n",
    "        filenames = os.listdir(path_directory)\n",
    "        \n",
    "        #Choice of a different parser according to the type of the file\n",
    "        if (path_directory == './data/2015-03-18/'):\n",
    "            parser = MyHTMLParserType1()\n",
    "            parser.reset_attributes()\n",
    "        else:\n",
    "            if (path_directory == './data/2017-12-20/'):\n",
    "                parser = MyHTMLParserType2()\n",
    "                parser.reset_attributes()\n",
    "\n",
    "        #Parser feeding\n",
    "        for filename in filenames:\n",
    "\n",
    "            #File Opening\n",
    "            f = open(path_directory + filename, 'r')\n",
    "            string_file = f.read()\n",
    "            f.close()\n",
    "\n",
    "            print('Opening finished for file' + filename)\n",
    "\n",
    "            parser.feed(string_file)\n",
    "        storage.append(parser.get_artists_works_array_of_dicts())\n",
    "        parser.reset_attributes()\n",
    "        parser.close()\n",
    "    \n",
    "    #Creation of the merged array\n",
    "    first_array_artists = storage[0]\n",
    "    second_array_artists = storage[1]\n",
    "    \n",
    "    array_artists_dicts = []\n",
    "    \n",
    "    #Storage of the names of the artists in the first array\n",
    "    artists_names_first_array = [dict_artist[\"artist\"] for dict_artist in first_array_artists]\n",
    "    \n",
    "    #Filling of the merged array with python dicts for the artists present in first set or in the two sets\n",
    "    for dict_artist_1  in first_array_artists:        \n",
    "        for dict_artist_2 in second_array_artists:\n",
    "            #If artist in already present, add the works to his name\n",
    "            if dict_artist_1[\"artist\"] == dict_artist_2[\"artist\"]:\n",
    "                for work in dict_artist_2[\"works\"]:\n",
    "                    dict_artist_1[\"works\"].append(work)\n",
    "                array_artists_dicts.append(dict_artist_1)\n",
    "    \n",
    "    #Filling of the merged array with python dicts for the artists present in the second set only\n",
    "    for dict_artist in second_array_artists:\n",
    "        artist = dict_artist[\"artist\"]\n",
    "        is_new = True\n",
    "        #If the artist is not in the first array, add his full dict to the merged array\n",
    "        for name in artists_names_first_array:\n",
    "            if artist == name:\n",
    "                isNew = False\n",
    "        if is_new:\n",
    "           array_artists_dicts.append(dict_artist) \n",
    "    #Money conversion\n",
    "    for i in range(len(array_artists_dicts)):\n",
    "        dict_artist = array_artists_dicts[i]\n",
    "        array_works = dict_artist[\"works\"]\n",
    "        for j in range(len(array_works)):\n",
    "            work = array_works[j]\n",
    "            if work[\"currency\"] == \"GBP\":\n",
    "                work[\"currency\"] = \"USD\"\n",
    "                work[\"amount\"] *= 1.34\n",
    "            array_works[j] = work\n",
    "        dict_artist[\"works\"] = array_works \n",
    "        array_artists_dicts[i] = dict_artist\n",
    "        \n",
    "            \n",
    "    encoder = json.JSONEncoder()\n",
    "\n",
    "    #Preparation of outputs of the function\n",
    "    array_artists_json = encoder.encode(array_artists_dicts)\n",
    "        \n",
    "    return(array_artists_json)"
   ]
  },
  {
   "cell_type": "code",
   "execution_count": 29,
   "metadata": {},
   "outputs": [
    {
     "name": "stdout",
     "output_type": "stream",
     "text": [
      "Opening finished for filelot1.html\n",
      "Opening finished for filelot5.html\n",
      "Opening finished for filelot4.html\n",
      "Opening finished for filelot3.html\n",
      "Opening finished for filelot2.html\n",
      "Opening finished for filelot1.html\n",
      "Opening finished for filelot5.html\n",
      "Opening finished for filelot4.html\n",
      "Opening finished for filelot3.html\n",
      "Opening finished for filelot2.html\n"
     ]
    }
   ],
   "source": [
    "out = main_treatment_HTML_to_JSON(\"./data\")"
   ]
  },
  {
   "cell_type": "code",
   "execution_count": 30,
   "metadata": {},
   "outputs": [
    {
     "name": "stdout",
     "output_type": "stream",
     "text": [
      "[{\"artist\": \"Rembrandt Harmensz. van Rijn\", \"works\": [{\"title\": \"Self-Portrait in a Cap and Scarf with Face dark: Bust\", \"currency\": \"USD\", \"amount\": 8125.0}, {\"title\": \"Christ at Emmaus: The smaller Plate\", \"currency\": \"USD\", \"amount\": 9212.5}]}, {\"artist\": \"Pablo Picasso\", \"works\": [{\"title\": \"Quatre Femmes nues et T\\u00eate sculpt\\u00e9e, from: La Suite Vollard\", \"currency\": \"USD\", \"amount\": 36000.0}, {\"title\": \"Femme assise, robe bleue\", \"currency\": \"USD\", \"amount\": 45047500.0}, {\"title\": \"Quatre Femmes nues et T\\u00eate sculpt\\u00e9e, from: La Suite Vollard\", \"currency\": \"USD\", \"amount\": 25000.0}]}, {\"artist\": \"Louis Marcoussis\", \"works\": [{\"title\": \"Bar du porto\", \"currency\": \"USD\", \"amount\": 149000.0}, {\"title\": \"Portrait d'Alice Halicka\", \"currency\": \"USD\", \"amount\": 182500.0}, {\"title\": \"La Table\", \"currency\": \"USD\", \"amount\": 12328.0}]}, {\"artist\": \"Rembrandt Harmensz. van Rijn\", \"works\": [{\"title\": \"Christ at Emmaus: The smaller Plate\", \"currency\": \"USD\", \"amount\": 9212.5}]}, {\"artist\": \"Marc Chagall\", \"works\": [{\"title\": \"Self-Portrait\", \"currency\": \"USD\", \"amount\": 8040.000000000001}]}, {\"artist\": \"Pablo Picasso\", \"works\": [{\"title\": \"Quatre Femmes nues et T\\u00eate sculpt\\u00e9e, from: La Suite Vollard\", \"currency\": \"USD\", \"amount\": 25000.0}]}, {\"artist\": \"Joan Mir\\u00f3\", \"works\": [{\"title\": \"Femme et Chien devant la Lune\", \"currency\": \"USD\", \"amount\": 15075.0}]}, {\"artist\": \"Louis Marcoussis\", \"works\": [{\"title\": \"La Table\", \"currency\": \"USD\", \"amount\": 12328.0}]}]"
     ]
    }
   ],
   "source": [
    "sys.stdout.write(out)"
   ]
  }
 ],
 "metadata": {
  "kernelspec": {
   "display_name": "Python 3",
   "language": "python",
   "name": "python3"
  },
  "language_info": {
   "codemirror_mode": {
    "name": "ipython",
    "version": 3
   },
   "file_extension": ".py",
   "mimetype": "text/x-python",
   "name": "python",
   "nbconvert_exporter": "python",
   "pygments_lexer": "ipython3",
   "version": "3.6.3"
  }
 },
 "nbformat": 4,
 "nbformat_minor": 2
}
