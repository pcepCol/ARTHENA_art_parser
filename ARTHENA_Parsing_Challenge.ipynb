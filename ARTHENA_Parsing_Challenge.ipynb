{
 "cells": [
  {
   "cell_type": "markdown",
   "metadata": {},
   "source": [
    "<h3 align=\"center\"><FONT size=\"7pt\">ARTHENA - Parsing Challenge</FONT></h3>\n",
    "<br><h3 align=\"center\"><FONT size=\"5pt\">Pierre-Charles Paret-Van Wolput</FONT></h3></br>"
   ]
  },
  {
   "cell_type": "markdown",
   "metadata": {},
   "source": [
    "### Import part"
   ]
  },
  {
   "cell_type": "code",
   "execution_count": 1,
   "metadata": {
    "collapsed": true
   },
   "outputs": [],
   "source": [
    "import os\n",
    "from os import listdir\n",
    "from html.parser import HTMLParser\n",
    "import json\n",
    "import sys\n",
    "import numpy as np"
   ]
  },
  {
   "cell_type": "code",
   "execution_count": 2,
   "metadata": {
    "collapsed": true
   },
   "outputs": [],
   "source": [
    "path = './data/2015-03-18/'"
   ]
  },
  {
   "cell_type": "markdown",
   "metadata": {},
   "source": [
    "### Parser class modification"
   ]
  },
  {
   "cell_type": "markdown",
   "metadata": {},
   "source": [
    "I used an HTML parser whose methods I can override to produce expected results. It could also be done by starting the whole string parsing if needed.\n",
    "\n",
    "This parser is case specific."
   ]
  },
  {
   "cell_type": "code",
   "execution_count": 3,
   "metadata": {},
   "outputs": [],
   "source": [
    "class MyHTMLParser(HTMLParser):\n",
    "    \n",
    "    #Variables to know when we are treating specific strings\n",
    "    is_name = False\n",
    "    is_title = False\n",
    "    is_price = False\n",
    "    next_div_is_price = False #warns that the next div tag encountered gives the price\n",
    "    count_h3 = 0 #counts the number of h3 tags encountered\n",
    "    \n",
    "    #Specific variables during a single file processing\n",
    "    name = \"\"\n",
    "    title = \"\"\n",
    "    price = \"\"\n",
    "    \n",
    "    #Variables for storage\n",
    "    dict_artists_works = {}\n",
    "    \n",
    "    \n",
    "    #Getter for output\n",
    "    def get_artists_works_array_of_dicts(self):\n",
    "        dict_artists_works = self.dict_artists_works\n",
    "        artists = list(dict_artists_works) #access the keys of the dict\n",
    "        array_dicts = [{} for x in range(len(artists))]\n",
    "        \n",
    "        #fill the array of new dicts \n",
    "        for i in range(len(artists)):\n",
    "            artist = artists[i]\n",
    "            dict = {\"artist\": artist, \"works\": dict_artists_works[artist]}\n",
    "            array_dicts[i] = dict\n",
    "        \n",
    "        return(array_dicts)\n",
    "    \n",
    "    #Adds a artwork to the dicts\n",
    "    def add_artwork(self):\n",
    "        name = self.name\n",
    "        artwork = {\"title\": self.title, \"price\": self.price}\n",
    "        if name in self.dict_artists_works:\n",
    "            self.dict_artists_works[name].append(artwork)\n",
    "        else:\n",
    "            self.dict_artists_works[name] = [artwork]\n",
    "           \n",
    "    \n",
    "    #(Re)setter for variables used to locate informations (name, etc.)\n",
    "    def reset_infile_variables(self):\n",
    "        self.is_name = False\n",
    "        self.is_title = False\n",
    "        self.name = \"\"\n",
    "        self.title = \"\"\n",
    "        self.price = \"\"\n",
    "        self.count_h3 = 0       \n",
    "    \n",
    "    #Method treating beginning of tags to know what to do with the data \n",
    "    def handle_starttag(self, tag, attrs):\n",
    "        #reset the variables that are file-related\n",
    "        if tag == 'html':\n",
    "            self.reset_infile_variables()\n",
    "        #warn that next data to treat is name\n",
    "        if tag == 'h2':\n",
    "            self.is_name = True\n",
    "        #warn that next data to treat is title\n",
    "        if tag == 'h3':\n",
    "            if self.count_h3 == 0:\n",
    "                self.is_title = True\n",
    "            if self.count_h3 == 1:\n",
    "                self.next_div_is_price = True\n",
    "            self.count_h3 += 1\n",
    "        #warn that next data to treat is price\n",
    "        if (tag == 'div') & self.next_div_is_price:\n",
    "            self.is_price = True\n",
    "            self.next_div_is_price = False\n",
    "    \n",
    "    #Method treating beginning of tags to stop the special treatment of the data\n",
    "    def handle_endtag(self, tag):\n",
    "        #reset the variables that are file-related and add new object\n",
    "        if tag == 'html':\n",
    "            self.add_artwork()\n",
    "            self.reset_infile_variables()\n",
    "        #warn that we are done treating name\n",
    "        if tag == 'h2':\n",
    "            self.is_name = False\n",
    "        #warn that we are done treating title\n",
    "        if tag == 'h3':\n",
    "            self.is_title = False\n",
    "        #warn that we are done treating price\n",
    "        if tag == 'div':\n",
    "            self.is_price = False\n",
    "\n",
    "    def handle_data(self, data):\n",
    "        #name treatement\n",
    "        if self.is_name:\n",
    "            string_components = data.split(' ')\n",
    "            string_name = \"\" \n",
    "            for s in string_components:\n",
    "                if (s[0].isalpha()):\n",
    "                    string_name = string_name + s + ' '\n",
    "            string_name = string_name[0:len(string_name)-1] #remove space after end of last name\n",
    "            self.name = string_name\n",
    "        #title treatment\n",
    "        if self.is_title:\n",
    "            self.title = data\n",
    "        #price treatment\n",
    "        if self.is_price:\n",
    "            self.price = data"
   ]
  },
  {
   "cell_type": "code",
   "execution_count": 4,
   "metadata": {
    "collapsed": true
   },
   "outputs": [],
   "source": [
    "def main_parsing_HTML_to_JSON(path_directory):\n",
    "    \n",
    "    filenames = os.listdir(path_directory)\n",
    "    \n",
    "    parser = MyHTMLParser()\n",
    "    encoder = json.JSONEncoder()\n",
    "    \n",
    "    #Parser feeding\n",
    "    for filename in filenames:\n",
    "        \n",
    "        #File Opening\n",
    "        f = open(path + filename, 'r')\n",
    "        string_file = f.read()\n",
    "        f.close()\n",
    "        \n",
    "        print('Opening finished for file' + filename)\n",
    "        \n",
    "        parser.feed(string_file)\n",
    "    \n",
    "    #Preparation of outputs of the function\n",
    "    array_artists_dicts = parser.get_artists_works_array_of_dicts()\n",
    "    array_artists_json = encoder.encode(array_artists_dicts)\n",
    "        \n",
    "    return(array_artists_json)"
   ]
  },
  {
   "cell_type": "code",
   "execution_count": 5,
   "metadata": {},
   "outputs": [
    {
     "name": "stdout",
     "output_type": "stream",
     "text": [
      "Opening finished for filelot1.html\n",
      "Opening finished for filelot5.html\n",
      "Opening finished for filelot4.html\n",
      "Opening finished for filelot3.html\n",
      "Opening finished for filelot2.html\n"
     ]
    }
   ],
   "source": [
    "out = main_parsing_HTML_to_JSON(path)"
   ]
  },
  {
   "cell_type": "code",
   "execution_count": 6,
   "metadata": {
    "scrolled": true
   },
   "outputs": [
    {
     "name": "stdout",
     "output_type": "stream",
     "text": [
      "[{\"artist\": \"Rembrandt Harmensz. van Rijn\", \"works\": [{\"title\": \"Christ at Emmaus: The smaller Plate\", \"price\": \"GBP 6,875\"}]}, {\"artist\": \"Marc Chagall\", \"works\": [{\"title\": \"Self-Portrait\", \"price\": \"GBP 6,000\"}]}, {\"artist\": \"Pablo Picasso\", \"works\": [{\"title\": \"Quatre Femmes nues et T\\u00eate sculpt\\u00e9e, from: La Suite Vollard\", \"price\": \"USD 25,000\"}]}, {\"artist\": \"Joan Mir\\u00f3\", \"works\": [{\"title\": \"Femme et Chien devant la Lune\", \"price\": \"GBP 11,250\"}]}, {\"artist\": \"Louis Marcoussis\", \"works\": [{\"title\": \"La Table\", \"price\": \"GBP 9,200\"}]}]"
     ]
    }
   ],
   "source": [
    "sys.stdout.write(out)"
   ]
  }
 ],
 "metadata": {
  "kernelspec": {
   "display_name": "Python 3",
   "language": "python",
   "name": "python3"
  },
  "language_info": {
   "codemirror_mode": {
    "name": "ipython",
    "version": 3
   },
   "file_extension": ".py",
   "mimetype": "text/x-python",
   "name": "python",
   "nbconvert_exporter": "python",
   "pygments_lexer": "ipython3",
   "version": "3.6.3"
  }
 },
 "nbformat": 4,
 "nbformat_minor": 2
}
