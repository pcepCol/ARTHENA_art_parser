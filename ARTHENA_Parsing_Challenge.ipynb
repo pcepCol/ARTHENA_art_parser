{
 "cells": [
  {
   "cell_type": "markdown",
   "metadata": {},
   "source": [
    "<h3 align=\"center\"><FONT size=\"7pt\">ARTHENA - Parsing Challenge</FONT></h3>\n",
    "<br><h3 align=\"center\"><FONT size=\"5pt\">Pierre-Charles Paret-Van Wolput</FONT></h3></br>"
   ]
  },
  {
   "cell_type": "markdown",
   "metadata": {},
   "source": [
    "### Import part"
   ]
  },
  {
   "cell_type": "code",
   "execution_count": 1,
   "metadata": {
    "collapsed": true
   },
   "outputs": [],
   "source": [
    "import os\n",
    "from os import listdir\n",
    "from html.parser import HTMLParser\n",
    "import json\n",
    "import sys\n",
    "import numpy as np"
   ]
  },
  {
   "cell_type": "code",
   "execution_count": 2,
   "metadata": {
    "collapsed": true
   },
   "outputs": [],
   "source": [
    "path = './data/2015-03-18/'"
   ]
  },
  {
   "cell_type": "markdown",
   "metadata": {},
   "source": [
    "### Parser class modification"
   ]
  },
  {
   "cell_type": "markdown",
   "metadata": {},
   "source": [
    "I used an HTML parser whose methods I can override to produce expected results. It could also be done by starting the whole string parsing if needed.\n",
    "\n",
    "This parser is case specific."
   ]
  },
  {
   "cell_type": "code",
   "execution_count": 19,
   "metadata": {},
   "outputs": [],
   "source": [
    "class MyHTMLParser(HTMLParser):\n",
    "    \n",
    "    #Variables to know when we are treating specific strings\n",
    "    is_name = False\n",
    "    is_title = False\n",
    "    \n",
    "    #Specific variables during a single file processing\n",
    "    name = \"\"\n",
    "    title = \"\"\n",
    "    count_h3 = 0\n",
    "    \n",
    "    #Variables for storage\n",
    "    dict_artists_works = {}\n",
    "    \n",
    "    \n",
    "    #Getter for output\n",
    "    def get_artists_works_array_of_dicts(self):\n",
    "        dict_artists_works = self.dict_artists_works\n",
    "        print(dict_artists_works)\n",
    "        artists = list(dict_artists_works) #access the keys of the dict\n",
    "        array_dicts = [{} for x in range(len(artists))]\n",
    "        \n",
    "        #fill the array of new dicts \n",
    "        for i in range(len(artists)):\n",
    "            artist = artists[i]\n",
    "            dict = {'artist': artist, 'works': dict_artists_works[artist]}\n",
    "            array_dicts[i] = dict\n",
    "        \n",
    "        return(array_dicts)\n",
    "    \n",
    "    #Adds a artwork to the dicts\n",
    "    def add_artwork(self):\n",
    "        name = self.name\n",
    "        if name in self.dict_artists_works:\n",
    "            self.dict_artists_works[name].append(self.title)\n",
    "        else:\n",
    "            self.dict_artists_works[name] = [self.title]\n",
    "        \n",
    "        \n",
    "    \n",
    "    #(Re)setter for variables used to locate informations (name, etc.)\n",
    "    def reset_infile_variables(self):\n",
    "        self.is_name = False\n",
    "        self.is_title = False\n",
    "        self.name = \"\"\n",
    "        self.title = \"\"\n",
    "        self.count_h3 = 0\n",
    "    \n",
    "    #Method treating beginning of tags to know what to do with the data \n",
    "    def handle_starttag(self, tag, attrs):\n",
    "        #reset the variables that are file-related\n",
    "        if tag == 'html':\n",
    "            self.reset_infile_variables()\n",
    "        #warn that next data to treat is name\n",
    "        if tag == 'h2':\n",
    "            self.is_name = True\n",
    "        #warn that next data to treat is title\n",
    "        if (tag=='h3') :\n",
    "            if self.count_h3 == 0:\n",
    "                self.is_title = True\n",
    "            self.count_h3 += 1\n",
    "    \n",
    "    #Method treating beginning of tags to stop the special treatment of the data\n",
    "    def handle_endtag(self, tag):\n",
    "        #reset the variables that are file-related and add new object\n",
    "        if tag == 'html':\n",
    "            self.add_artwork()\n",
    "            self.reset_infile_variables()\n",
    "        #warn that we are done treating name\n",
    "        if tag == 'h2':\n",
    "            self.is_name = False\n",
    "        #warn that we are done treating title\n",
    "        if tag=='h3':\n",
    "            self.is_title = False\n",
    "\n",
    "    def handle_data(self, data):\n",
    "        #name treatement\n",
    "        if self.is_name:\n",
    "            string_components = data.split(' ')\n",
    "            string_name = \"\" \n",
    "            for s in string_components:\n",
    "                if (s[0].isalpha()):\n",
    "                    string_name = string_name + s + ' '\n",
    "            string_name = string_name[0:len(string_name)-1] #remove space after end of last name\n",
    "            self.name = string_name\n",
    "        #title treatment\n",
    "        if self.is_title:\n",
    "            string_components = data.split(' ')\n",
    "            self.title = data "
   ]
  },
  {
   "cell_type": "code",
   "execution_count": 20,
   "metadata": {
    "collapsed": true
   },
   "outputs": [],
   "source": [
    "def main_parsing_HTML_to_JSON(path_directory):\n",
    "    \n",
    "    filenames = os.listdir(path_directory)\n",
    "    \n",
    "    parser = MyHTMLParser()\n",
    "    encoder = json.JSONEncoder()\n",
    "    \n",
    "    #Parser feeding\n",
    "    for filename in filenames:\n",
    "        \n",
    "        #File Opening\n",
    "        f = open(path + filename, 'r')\n",
    "        string_file = f.read()\n",
    "        f.close()\n",
    "        print(string_file)\n",
    "        \n",
    "        print('Opening finished for file' + filename)\n",
    "        \n",
    "        parser.feed(string_file)\n",
    "    \n",
    "    #Preparation of outputs of the function\n",
    "    array_artists_dicts = parser.get_artists_works_array_of_dicts()\n",
    "    array_artists_json = encoder.encode(array_artists_dicts)\n",
    "        \n",
    "    return(array_artists_json)"
   ]
  },
  {
   "cell_type": "code",
   "execution_count": 21,
   "metadata": {},
   "outputs": [
    {
     "name": "stdout",
     "output_type": "stream",
     "text": [
      "<html>\n",
      "    <title>\n",
      "        Rembrandt Harmensz. van Rijn: Christ at Emmaus: The smaller Plate\n",
      "    </title>\n",
      "    <body>\n",
      "      <h2>Rembrandt Harmensz. van Rijn</h2>\n",
      "      <h3>Christ at Emmaus: The smaller Plate</h3>\n",
      "        <div>\n",
      "          Rembrandt Harmensz. van Rijn\n",
      "          Christ at Emmaus: The smaller Plate\n",
      "          etching with drypoint, 1634, without watermark, a good impression of this scarce print, New Hollstein's only state, beginning to show some wear in places, trimmed to or on the platemark, generally in very good condition\n",
      "          P., S. 104 x 75 mm.\n",
      "        </div>\n",
      "      <h3>Price realised</h3>\n",
      "      <div>GBP 6,875</div>\n",
      "    </body>\n",
      "</html>\n",
      "\n",
      "Opening finished for filelot1.html\n",
      "<html>\n",
      "    <title>\n",
      "        Marc Chagall: Self-Portrait\n",
      "    </title>\n",
      "    <body>\n",
      "      <h2>Marc Chagall</h2>\n",
      "      <h3>Self-Portrait</h3>\n",
      "        <div>\n",
      "          Marc Chagall\n",
      "          Self-Portrait\n",
      "          lithograph in colours, 1960, on Arches wove paper, signed in pencil, numbered 35/40, published by André Seurat, Paris, the full sheet, the colours fresh, some pale light-staining, generally in good condition\n",
      "\n",
      "          L. 315 x 250 mm., S. 475 x 320 mm.\n",
      "        </div>\n",
      "      <h3>Price realised</h3>\n",
      "      <div>GBP 6,000</div>\n",
      "    </body>\n",
      "</html>\n",
      "\n",
      "Opening finished for filelot5.html\n",
      "<html>\n",
      "    <title>\n",
      "      Pablo Picasso: Quatre Femmes nues et Tête sculptée, from: La Suite Vollard\n",
      "    </title>\n",
      "    <body>\n",
      "      <h2>Pablo Picasso</h2>\n",
      "      <h3>Quatre Femmes nues et Tête sculptée, from: La Suite Vollard</h3>\n",
      "        <div>\n",
      "          Pablo Picasso\n",
      "          Quatre Femmes nues et Tête sculptée, from: La Suite Vollard\n",
      "          etching and engraving, 1934, on Montval laid paper, watermark Vollard, signed in pencil, from the edition of 260 (there was also an edition of fifty with wider margins), published by A. Vollard, Paris, 1939, the full sheet, a deckle edge at left, in very good condition\n",
      "          P. 223 x 316 mm., S. 340 x 450 mm.\n",
      "        </div>\n",
      "      <h3>Price realised</h3>\n",
      "      <div>USD 25,000</div>\n",
      "    </body>\n",
      "</html>\n",
      "\n",
      "Opening finished for filelot4.html\n",
      "<html>\n",
      "    <title>\n",
      "        Joan Miró: Femme et Chien devant la Lune\n",
      "    </title>\n",
      "    <body>\n",
      "      <h2>Joan Miró</h2>\n",
      "      <h3>Femme et Chien devant la Lune</h3>\n",
      "        <div>\n",
      "          Joan Miró (1893-1983)\n",
      "          Femme et Chien devant la Lune\n",
      "          pochoir in colours, 1935, on wove paper, signed and dated in pencil, numbered 5/60, published by Adlan, Barcelona, with their stamp verso, the full sheet, a few pale foxmarks in the margins, the tips of the upper and lower left sheet corners slightly creased, otherwise in very good condition\n",
      "\n",
      "          L. 512 x 455 mm., S. 655 x 500 mm.\n",
      "        </div>\n",
      "      <h3>Price realised</h3>\n",
      "      <div>GBP 11,250</div>\n",
      "    </body>\n",
      "</html>\n",
      "\n",
      "Opening finished for filelot3.html\n",
      "<html>\n",
      "    <title>\n",
      "        Louis Marcoussis: La Table\n",
      "    </title>\n",
      "    <body>\n",
      "      <h2>Louis Marcoussis (1883-1941)</h2>\n",
      "      <h3>La Table</h3>\n",
      "        <div>\n",
      "          Louis Marcoussis (1883-1941)\n",
      "          La Table\n",
      "          etching in colours, 1930, on Japan paper, signed in pencil, numbered 3/20 (there was also an edition of 120 on Arches), published by Jeanne Bucher, Paris, with wide margins, presumably the whole sheet, some soft creases at the corners, otherwise in very good condition\n",
      "\n",
      "          P. 245 x 180 mm., S. 500 x 379 mm.\n",
      "        </div>\n",
      "      <h3>Price realised</h3>\n",
      "      <div>GBP 9,200</div>\n",
      "    </body>\n",
      "</html>\n",
      "\n",
      "Opening finished for filelot2.html\n",
      "{'Rembrandt Harmensz. van Rijn': ['Christ at Emmaus: The smaller Plate'], 'Marc Chagall': ['Self-Portrait'], 'Pablo Picasso': ['Quatre Femmes nues et Tête sculptée, from: La Suite Vollard'], 'Joan Miró': ['Femme et Chien devant la Lune'], 'Louis Marcoussis': ['La Table']}\n"
     ]
    }
   ],
   "source": [
    "out = main_parsing_HTML_to_JSON(path)"
   ]
  },
  {
   "cell_type": "code",
   "execution_count": 22,
   "metadata": {
    "scrolled": true
   },
   "outputs": [
    {
     "name": "stdout",
     "output_type": "stream",
     "text": [
      "[{\"artist\": \"Rembrandt Harmensz. van Rijn\", \"works\": [\"Christ at Emmaus: The smaller Plate\"]}, {\"artist\": \"Marc Chagall\", \"works\": [\"Self-Portrait\"]}, {\"artist\": \"Pablo Picasso\", \"works\": [\"Quatre Femmes nues et T\\u00eate sculpt\\u00e9e, from: La Suite Vollard\"]}, {\"artist\": \"Joan Mir\\u00f3\", \"works\": [\"Femme et Chien devant la Lune\"]}, {\"artist\": \"Louis Marcoussis\", \"works\": [\"La Table\"]}]"
     ]
    }
   ],
   "source": [
    "sys.stdout.write(out)"
   ]
  }
 ],
 "metadata": {
  "kernelspec": {
   "display_name": "Python 3",
   "language": "python",
   "name": "python3"
  },
  "language_info": {
   "codemirror_mode": {
    "name": "ipython",
    "version": 3
   },
   "file_extension": ".py",
   "mimetype": "text/x-python",
   "name": "python",
   "nbconvert_exporter": "python",
   "pygments_lexer": "ipython3",
   "version": "3.6.3"
  }
 },
 "nbformat": 4,
 "nbformat_minor": 2
}
